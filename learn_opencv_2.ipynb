{
 "cells": [
  {
   "cell_type": "code",
   "execution_count": 3,
   "metadata": {
    "collapsed": true
   },
   "outputs": [],
   "source": [
    "#傅里叶变换\n",
    "#高通滤波器\n",
    "import cv2\n",
    "import numpy as np\n",
    "from scipy import ndimage"
   ]
  },
  {
   "cell_type": "code",
   "execution_count": 4,
   "metadata": {
    "collapsed": true
   },
   "outputs": [],
   "source": [
    "kernel_3x3 = np.array([[-1, -1, -1],\n",
    "                      [-1, 8, -1],\n",
    "                      [-1, -1, -1]])\n",
    "kernel_5x5 = np.array([[-1, -1, -1, -1, -1],\n",
    "                      [-1, 1, 2, 1, -1],\n",
    "                      [-1, 2, 4, 2, -1],\n",
    "                      [-1, 1, 2, 1, -1],\n",
    "                      [-1, -1, -1, -1, -1]])\n",
    "img = cv2.imread('mypic.png', 0)#读取图片 并转换为灰度格式\n",
    "cv2.imshow('origin', img)\n",
    "k3 = ndimage.convolve(img, kernel_3x3)\n",
    "k5 = ndimage.convolve(img, kernel_5x5)\n",
    "\n",
    "blurred = cv2.GaussianBlur(img, (11, 11), 0)\n",
    "g_hpf = img - blurred#先低通滤波，再用原图减去 效果更好\n",
    "g_hpf_conv = cv2.imwrite('g_hpf_conv.png', g_hpf)#保存这个效果好的图片\n",
    "\n",
    "test_hpf = ndimage.convolve(blurred, kernel_3x3)#测试：先低通滤波，再高通滤波\n",
    "cv2.imshow('3x3', k3)\n",
    "cv2.imshow('5x5', k5)\n",
    "cv2.imshow('g_hpf', g_hpf)\n",
    "cv2.imshow('test_hpf', test_hpf)\n",
    "cv2.waitKey()\n",
    "cv2.destroyAllWindows()"
   ]
  },
  {
   "cell_type": "code",
   "execution_count": null,
   "metadata": {
    "collapsed": true
   },
   "outputs": [],
   "source": [
    " canny function 边缘检测"
   ]
  },
  {
   "cell_type": "code",
   "execution_count": 5,
   "metadata": {
    "collapsed": true
   },
   "outputs": [],
   "source": [
    "img = cv2.imread('mypic.png', 0)\n",
    "cv2.imwrite('canny.jpg', cv2.Canny(img, 200, 300))\n",
    "cv2.imshow('canny.jpg', cv2.imread('canny.jpg'))\n",
    "cv2.waitKey()\n",
    "cv2.destroyAllWindows()"
   ]
  },
  {
   "cell_type": "code",
   "execution_count": 3,
   "metadata": {
    "collapsed": true
   },
   "outputs": [],
   "source": [
    "#用我们的路飞酱来展示一把，非常的炫酷了。\n",
    "img = cv2.imread('lufei.jpg', 0)\n",
    "cv2.imwrite('lufei_gray.jpg', img)\n",
    "cv2.imwrite('lufei_edge.jpg', cv2.Canny(img, 200, 300))\n",
    "\n",
    "cv2.imshow('lufei', cv2.imread('lufei.jpg'))\n",
    "cv2.imshow('lufei_gray', img)\n",
    "cv2.imshow('lufei_edge', cv2.imread('lufei_edge.jpg'))\n",
    "cv2.waitKey()\n",
    "cv2.destroyAllWindows()"
   ]
  },
  {
   "cell_type": "code",
   "execution_count": null,
   "metadata": {
    "collapsed": true
   },
   "outputs": [],
   "source": [
    "#轮廓检测"
   ]
  },
  {
   "cell_type": "code",
   "execution_count": 12,
   "metadata": {},
   "outputs": [],
   "source": [
    "img = np.zeros((300, 300), dtype=np.uint8)\n",
    "cv2.imshow('init_img', img)\n",
    "img[100:200, 100:200] = 255\n",
    "#cv2.threshold (源图片, 阈值, 填充色, 阈值类型)， 返回值ret表示阈值，thresh表示返回图片\n",
    "ret, thresh = cv2.threshold(img, 127, 255, 0)\n",
    "#coutours 轮廓 \n",
    "#cv2.findContours()函数接受的参数为二值图，即黑白的（不是灰度图），所以读取的图像要先转成灰度的，再转成二值图\n",
    "image, contours, hierarchy = cv2.findContours(thresh, cv2.RETR_TREE, cv2.CHAIN_APPROX_SIMPLE)\n",
    "color = cv2.cvtColor(img, cv2.COLOR_GRAY2BGR)\n",
    "#cv2.drawContours绘制轮廓\n",
    "img = cv2.drawContours(color, contours, -1, (0, 255, 0), 2)\n",
    "cv2.imshow('contours', img)\n",
    "cv2.waitKey()\n",
    "cv2.destroyAllWindows()"
   ]
  },
  {
   "cell_type": "code",
   "execution_count": null,
   "metadata": {
    "collapsed": true
   },
   "outputs": [],
   "source": [
    " "
   ]
  }
 ],
 "metadata": {
  "kernelspec": {
   "display_name": "Python 3",
   "language": "python",
   "name": "python3"
  },
  "language_info": {
   "codemirror_mode": {
    "name": "ipython",
    "version": 3
   },
   "file_extension": ".py",
   "mimetype": "text/x-python",
   "name": "python",
   "nbconvert_exporter": "python",
   "pygments_lexer": "ipython3",
   "version": "3.6.1"
  }
 },
 "nbformat": 4,
 "nbformat_minor": 2
}
